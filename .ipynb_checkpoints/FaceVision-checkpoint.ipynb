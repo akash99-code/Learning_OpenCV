{
 "cells": [
  {
   "cell_type": "code",
   "execution_count": 1,
   "id": "4ed1de2a",
   "metadata": {},
   "outputs": [],
   "source": [
    "import cv2 as cv\n",
    "import os\n",
    "import numpy as np"
   ]
  },
  {
   "cell_type": "markdown",
   "id": "7a0f2a79",
   "metadata": {},
   "source": [
    "# Face Detection"
   ]
  },
  {
   "cell_type": "code",
   "execution_count": 34,
   "id": "fe5db52d",
   "metadata": {},
   "outputs": [],
   "source": [
    "## loading image\n",
    "def load(name):  \n",
    "    img = cv.imread(f'images/{name}')\n",
    "    img = cv.resize(img, (img.shape[1]//2, img.shape[0]//2))\n",
    "    cv.imshow('loaded image', img)\n",
    "    cv.waitKey(0)\n",
    "    return img"
   ]
  },
  {
   "cell_type": "code",
   "execution_count": 3,
   "id": "7e3a619c",
   "metadata": {},
   "outputs": [],
   "source": [
    "## converting to grayscale\n",
    "def getBnW(img):\n",
    "    gray = cv.cvtColor(img, cv.COLOR_BGR2GRAY)\n",
    "    cv.imshow('analysing in grayscale', gray)\n",
    "    cv.waitKey(0)\n",
    "    return gray"
   ]
  },
  {
   "cell_type": "code",
   "execution_count": 39,
   "id": "45cfd030",
   "metadata": {},
   "outputs": [],
   "source": [
    "## loading haarcascade classifier\n",
    "haar_cascade = cv.CascadeClassifier('haar_face.xml')"
   ]
  },
  {
   "cell_type": "code",
   "execution_count": 32,
   "id": "2b70b3b4",
   "metadata": {},
   "outputs": [],
   "source": [
    "## countFaces\n",
    "def countFaces(name):\n",
    "    img = load(name)\n",
    "    gray_image = getBnW(img)\n",
    "    faces_rect = haar_cascade.detectMultiScale(gray_image, scaleFactor=1.1, minNeighbors=4)\n",
    "    print(f'number faces found = {len(faces_rect)}')\n",
    "    detectFace(img, faces_rect)"
   ]
  },
  {
   "cell_type": "code",
   "execution_count": 6,
   "id": "f1e56d8d",
   "metadata": {},
   "outputs": [],
   "source": [
    "## detecting faces\n",
    "def detectFace(img, faces_rect):\n",
    "    for (x, y, w, h) in faces_rect:\n",
    "        cv.rectangle(img, (x,y), (x+w, y+h), (255,0,0), thickness=2)\n",
    "    cv.imshow('face detected', img)\n",
    "    cv.waitKey(0)"
   ]
  },
  {
   "cell_type": "code",
   "execution_count": 27,
   "id": "beef214a",
   "metadata": {},
   "outputs": [
    {
     "name": "stdout",
     "output_type": "stream",
     "text": [
      "number faces found = 1\n"
     ]
    }
   ],
   "source": [
    "countFaces('me.jpg')"
   ]
  },
  {
   "cell_type": "code",
   "execution_count": 35,
   "id": "5b51dc65",
   "metadata": {
    "scrolled": true
   },
   "outputs": [
    {
     "name": "stdout",
     "output_type": "stream",
     "text": [
      "number faces found = 6\n"
     ]
    }
   ],
   "source": [
    "countFaces('scorpion.jpg')"
   ]
  },
  {
   "cell_type": "markdown",
   "id": "dce3f6bb",
   "metadata": {},
   "source": [
    "# Face Recognition"
   ]
  },
  {
   "cell_type": "code",
   "execution_count": 12,
   "id": "ba49909c",
   "metadata": {},
   "outputs": [
    {
     "name": "stdout",
     "output_type": "stream",
     "text": [
      "['cabe', 'happy', 'paige', 'toby', 'walter']\n"
     ]
    }
   ],
   "source": [
    "names = []\n",
    "DIR = r'C:\\Users\\ashok\\Desktop\\MscDS\\OpenCV\\faces'\n",
    "for f in os.listdir(DIR):\n",
    "    names.append(f)\n",
    "print(names)"
   ]
  },
  {
   "cell_type": "code",
   "execution_count": 27,
   "id": "97497bf7",
   "metadata": {},
   "outputs": [
    {
     "name": "stdout",
     "output_type": "stream",
     "text": [
      "51 51\n"
     ]
    }
   ],
   "source": [
    "features=[]\n",
    "labels=[]\n",
    "def gen_dast():\n",
    "    for name in names:\n",
    "        label = names.index(name)\n",
    "        path = os.path.join(DIR,name)\n",
    "        \n",
    "        for file in os.listdir(path):\n",
    "            img_path = os.path.join(path,file)\n",
    "            frame = cv.imread(img_path)\n",
    "            gray = cv.cvtColor(frame, cv.COLOR_BGR2GRAY)\n",
    "            \n",
    "            rects = haar_cascade.detectMultiScale(gray, scaleFactor=1.1, minNeighbors=4)\n",
    "            \n",
    "            for (x,y,w,h)in rects:\n",
    "                face = gray[y:y+h, x:x+w]\n",
    "                features.append(face)\n",
    "                labels.append(label)\n",
    "\n",
    "gen_dast()\n",
    "print(len(features), len(labels))\n",
    "features =np.array(features, dtype='object')\n",
    "labels = np.array(labels)"
   ]
  },
  {
   "cell_type": "code",
   "execution_count": 28,
   "id": "76786205",
   "metadata": {},
   "outputs": [],
   "source": [
    "# creating model\n",
    "face_recognizer= cv.face.LBPHFaceRecognizer_create()\n",
    "\n",
    "\n",
    "# training model\n",
    "face_recognizer.train(features, labels)\n"
   ]
  },
  {
   "cell_type": "code",
   "execution_count": 7,
   "id": "c5e3e607",
   "metadata": {},
   "outputs": [
    {
     "ename": "NameError",
     "evalue": "name 'face_recognizer' is not defined",
     "output_type": "error",
     "traceback": [
      "\u001b[1;31m---------------------------------------------------------------------------\u001b[0m",
      "\u001b[1;31mNameError\u001b[0m                                 Traceback (most recent call last)",
      "\u001b[1;32m<ipython-input-7-f561403196ec>\u001b[0m in \u001b[0;36m<module>\u001b[1;34m\u001b[0m\n\u001b[0;32m      1\u001b[0m \u001b[1;31m# saving model\u001b[0m\u001b[1;33m\u001b[0m\u001b[1;33m\u001b[0m\u001b[1;33m\u001b[0m\u001b[0m\n\u001b[1;32m----> 2\u001b[1;33m \u001b[0mface_recognizer\u001b[0m\u001b[1;33m.\u001b[0m\u001b[0msave\u001b[0m\u001b[1;33m(\u001b[0m\u001b[1;34m'face_trained.yml'\u001b[0m\u001b[1;33m)\u001b[0m\u001b[1;33m\u001b[0m\u001b[1;33m\u001b[0m\u001b[0m\n\u001b[0m",
      "\u001b[1;31mNameError\u001b[0m: name 'face_recognizer' is not defined"
     ]
    }
   ],
   "source": [
    "# saving model\n",
    "face_recognizer.save('face_trained.yml')\n"
   ]
  },
  {
   "cell_type": "code",
   "execution_count": 10,
   "id": "b9721280",
   "metadata": {},
   "outputs": [],
   "source": [
    "# loading saved model\n",
    "face_recognizer= cv.face.LBPHFaceRecognizer_create()\n",
    "face_recognizer.read('face_trained.yml')\n"
   ]
  },
  {
   "cell_type": "code",
   "execution_count": 45,
   "id": "55f4fd41",
   "metadata": {
    "scrolled": true
   },
   "outputs": [
    {
     "name": "stdout",
     "output_type": "stream",
     "text": [
      "label = happy with a confidence of 112.25106812276324\n",
      "label = walter with a confidence of 138.94552576213326\n",
      "label = paige with a confidence of 137.06603569981672\n",
      "label = happy with a confidence of 145.32537047428852\n",
      "label = toby with a confidence of 124.34146543705364\n",
      "label = walter with a confidence of 121.70050324807777\n"
     ]
    },
    {
     "data": {
      "text/plain": [
       "-1"
      ]
     },
     "execution_count": 45,
     "metadata": {},
     "output_type": "execute_result"
    }
   ],
   "source": [
    "# predicting faces in new image\n",
    "image = cv.imread('images/scorpion.jpg')\n",
    "gray_img = cv.cvtColor(image, cv.COLOR_BGR2GRAY)\n",
    "facesRects = haar_cascade.detectMultiScale(gray_img, scaleFactor=1.1, minNeighbors=4)\n",
    "for (x, y, w, h) in facesRects:\n",
    "    face = gray[y:y+h, x:x+w]\n",
    "    label, confidence = face_recognizer.predict(face)\n",
    "    print(f'label = {names[label]} with a confidence of {confidence}')\n",
    "    cv.putText(image, str(names[label]), (x,y), cv.FONT_HERSHEY_COMPLEX, 0.5, (0,255,0), thickness=1)\n",
    "    cv.rectangle(image, (x,y), (x+w, y+h), (0,255,0), thickness=1)\n",
    "\n",
    "cv.imshow('predictions', image)\n",
    "cv.waitKey(0)"
   ]
  },
  {
   "cell_type": "code",
   "execution_count": 28,
   "id": "8476ad64",
   "metadata": {},
   "outputs": [
    {
     "data": {
      "text/plain": [
       "-1"
      ]
     },
     "execution_count": 28,
     "metadata": {},
     "output_type": "execute_result"
    }
   ],
   "source": []
  }
 ],
 "metadata": {
  "kernelspec": {
   "display_name": "Python 3",
   "language": "python",
   "name": "python3"
  },
  "language_info": {
   "codemirror_mode": {
    "name": "ipython",
    "version": 3
   },
   "file_extension": ".py",
   "mimetype": "text/x-python",
   "name": "python",
   "nbconvert_exporter": "python",
   "pygments_lexer": "ipython3",
   "version": "3.9.0"
  }
 },
 "nbformat": 4,
 "nbformat_minor": 5
}
