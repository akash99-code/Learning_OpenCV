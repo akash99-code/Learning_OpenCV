{
 "cells": [
  {
   "cell_type": "markdown",
   "id": "6441928e",
   "metadata": {},
   "source": [
    "## Hand Tracking"
   ]
  },
  {
   "cell_type": "code",
   "execution_count": 1,
   "id": "dc408947",
   "metadata": {},
   "outputs": [],
   "source": [
    "import cv2\n",
    "import mediapipe as mp\n",
    "import time"
   ]
  },
  {
   "cell_type": "code",
   "execution_count": 3,
   "id": "e0a59afe",
   "metadata": {},
   "outputs": [],
   "source": [
    "mpHands =  mp.solutions.hands\n",
    "hands = mpHands.Hands()\n",
    "\n",
    "mpDraw = mp.solutions.drawing_utils"
   ]
  },
  {
   "cell_type": "markdown",
   "id": "7fcc8a1f",
   "metadata": {},
   "source": [
    "Hand Landmarks"
   ]
  },
  {
   "cell_type": "code",
   "execution_count": 16,
   "id": "f3d6f3b1",
   "metadata": {},
   "outputs": [],
   "source": [
    "pt=0\n",
    "ct=0\n",
    "cap = cv2.VideoCapture(0)\n",
    "\n",
    "while True:\n",
    "    success, img = cap.read()\n",
    "    \n",
    "    imgRGB = cv2.cvtColor(img, cv2.COLOR_BGR2RGB)\n",
    "    results = hands.process(imgRGB)\n",
    "    if results.multi_hand_landmarks:\n",
    "        for handLms in results.multi_hand_landmarks:\n",
    "            #mpDraw.draw_landmarks(img, handLms)\n",
    "            mpDraw.draw_landmarks(img, handLms, mpHands.HAND_CONNECTIONS)\n",
    "            \n",
    "    ct=time.time()\n",
    "    fps=1/(ct-pt)\n",
    "    pt=ct\n",
    "    cv2.putText(img, 'fps'+str(int(fps)), (10,78), cv2.FONT_HERSHEY_PLAIN,1, (255,0,255), 1)\n",
    "    cv2.imshow(\"HandLandmarks\",img)\n",
    "    if cv2.waitKey(1) & 0xFF == ord('q'):\n",
    "        break\n",
    "    \n",
    "    if cv2.getWindowProperty(\"HandLandmarks\", cv2.WND_PROP_VISIBLE) <1:\n",
    "        break\n",
    "        \n",
    "cap.release()\n",
    "cv2.destroyAllWindows()"
   ]
  },
  {
   "cell_type": "markdown",
   "id": "49d7e327",
   "metadata": {},
   "source": [
    "Detecting particular point in hand"
   ]
  },
  {
   "cell_type": "code",
   "execution_count": 17,
   "id": "76bf2e48",
   "metadata": {},
   "outputs": [],
   "source": [
    "\n",
    "cap = cv2.VideoCapture(0)\n",
    "while True:\n",
    "    success, img = cap.read()\n",
    "    \n",
    "    imgRGB = cv2.cvtColor(img, cv2.COLOR_BGR2RGB)\n",
    "    results = hands.process(imgRGB)\n",
    "    if results.multi_hand_landmarks:\n",
    "        for handLms in results.multi_hand_landmarks:\n",
    "            for id,lm in enumerate(handLms.landmark):\n",
    "                h, w, c =img.shape\n",
    "                cx, cy = int(lm.x*w), int(lm.y *h)\n",
    "                if(id==4):\n",
    "                    cv2.circle(img, (cx,cy),15, (255,8,255), cv2.FILLED)\n",
    "            mpDraw.draw_landmarks(img, handLms, mpHands.HAND_CONNECTIONS)\n",
    "    cv2.imshow(\"landmark Pointing\",img)\n",
    "    if cv2.waitKey(1) & 0xFF == ord('q'):\n",
    "        break\n",
    "    \n",
    "    if cv2.getWindowProperty(\"landmark Pointing\", cv2.WND_PROP_VISIBLE) <1:\n",
    "        break\n",
    "cap.release()\n",
    "cv2.destroyAllWindows()"
   ]
  },
  {
   "cell_type": "markdown",
   "id": "a32c6452",
   "metadata": {},
   "source": [
    "## Pose Estimation"
   ]
  },
  {
   "cell_type": "code",
   "execution_count": 8,
   "id": "0d21ad35",
   "metadata": {},
   "outputs": [],
   "source": [
    "mpPose =  mp.solutions.pose\n",
    "pose = mpPose.Pose()\n",
    "\n",
    "mpDraw = mp.solutions.drawing_utils"
   ]
  },
  {
   "cell_type": "markdown",
   "id": "759aeb67",
   "metadata": {},
   "source": [
    "Body landmarks"
   ]
  },
  {
   "cell_type": "code",
   "execution_count": 7,
   "id": "f6f05929",
   "metadata": {},
   "outputs": [],
   "source": [
    "cap = cv2.VideoCapture(0)\n",
    "while True:\n",
    "    success, img = cap.read()\n",
    "    \n",
    "    imgRGB = cv2.cvtColor(img, cv2.COLOR_BGR2RGB)\n",
    "    results = pose.process(imgRGB)\n",
    "    \n",
    "    if(results.pose_landmarks):\n",
    "        mpDraw.draw_landmarks(img, results.pose_landmarks, mpPose.POSE_CONNECTIONS)\n",
    "    \n",
    "    cv2.imshow(\"Body landmark\",img)\n",
    "    imgRGB = cv2.cvtColor(img, cv2.COLOR_BGR2RGB)\n",
    "    if cv2.waitKey(1) & 0xFF == ord('q'):\n",
    "        break\n",
    "    \n",
    "    if cv2.getWindowProperty(\"Body landmark\", cv2.WND_PROP_VISIBLE) <1:\n",
    "        break\n",
    "cap.release()\n",
    "cv2.destroyAllWindows()"
   ]
  },
  {
   "cell_type": "markdown",
   "id": "d685376a",
   "metadata": {},
   "source": [
    "Higlighting a landmark"
   ]
  },
  {
   "cell_type": "code",
   "execution_count": 16,
   "id": "2c7ab346",
   "metadata": {},
   "outputs": [],
   "source": [
    "cap = cv2.VideoCapture(0)\n",
    "while True:\n",
    "    success, img = cap.read()\n",
    "    \n",
    "    imgRGB = cv2.cvtColor(img, cv2.COLOR_BGR2RGB)\n",
    "    results = pose.process(imgRGB)\n",
    "    \n",
    "    if(results.pose_landmarks):\n",
    "        #mpDraw.draw_landmarks(img, results.pose_landmarks, mpPose.POSE_CONNECTIONS)\n",
    "        for id,lm in enumerate(results.pose_landmarks.landmark):\n",
    "            h, w, c =img.shape\n",
    "            cx, cy = int(lm.x*w), int(lm.y *h)\n",
    "            if(id==0):\n",
    "                cv2.circle(img, (cx,cy),5, (255,8,255), cv2.FILLED)\n",
    "    \n",
    "    cv2.imshow(\"Body landmark\",img)\n",
    "    imgRGB = cv2.cvtColor(img, cv2.COLOR_BGR2RGB)\n",
    "    if cv2.waitKey(1) & 0xFF == ord('q'):\n",
    "        break\n",
    "    \n",
    "    if cv2.getWindowProperty(\"Body landmark\", cv2.WND_PROP_VISIBLE) <1:\n",
    "        break\n",
    "cap.release()\n",
    "cv2.destroyAllWindows()"
   ]
  },
  {
   "cell_type": "markdown",
   "id": "0005de6d",
   "metadata": {},
   "source": [
    "## Face Detection"
   ]
  },
  {
   "cell_type": "code",
   "execution_count": 35,
   "id": "6538fa6e",
   "metadata": {},
   "outputs": [],
   "source": [
    "mpFaceDetection =  mp.solutions.face_detection\n",
    "faceDetection = mpFaceDetection.FaceDetection()\n",
    "\n",
    "mpDraw = mp.solutions.drawing_utils"
   ]
  },
  {
   "cell_type": "code",
   "execution_count": 38,
   "id": "86528fff",
   "metadata": {},
   "outputs": [],
   "source": [
    "cap = cv2.VideoCapture(0)\n",
    "while True:\n",
    "    success, img = cap.read()\n",
    "    \n",
    "    imgRGB = cv2.cvtColor(img, cv2.COLOR_BGR2RGB)\n",
    "    results = faceDetection.process(imgRGB)\n",
    "    \n",
    "    if(results.detections):\n",
    "        for id,detection in enumerate(results.detections):\n",
    "            #mpDraw.draw_detection(img, detection)\n",
    "            bboxC = detection.location_data.relative_bounding_box\n",
    "            ih, iw, ic = img.shape\n",
    "            bbox = int(bboxC.xmin * iw), int(bboxC.ymin * ih), int(bboxC.width * iw), int(bboxC.height * ih) \n",
    "            cv2.rectangle(img, bbox, (255,0,255),2)\n",
    "            cv2.putText(img, f'{int(detection.score[0]*100)}%', (bbox[0],bbox[1]-20), cv2.FONT_HERSHEY_PLAIN,1, (255,0,255), 1)\n",
    "    \n",
    "    cv2.imshow(\"Face Detection\",img)\n",
    "    imgRGB = cv2.cvtColor(img, cv2.COLOR_BGR2RGB)\n",
    "    if cv2.waitKey(1) & 0xFF == ord('q'):\n",
    "        break\n",
    "    \n",
    "    if cv2.getWindowProperty(\"Face Detection\", cv2.WND_PROP_VISIBLE) <1:\n",
    "        break\n",
    "cap.release()\n",
    "cv2.destroyAllWindows()"
   ]
  },
  {
   "cell_type": "markdown",
   "id": "7ec2de87",
   "metadata": {},
   "source": [
    "## Face Mesh"
   ]
  },
  {
   "cell_type": "code",
   "execution_count": 2,
   "id": "2c952cef",
   "metadata": {},
   "outputs": [],
   "source": [
    "mpFaceMesh =  mp.solutions.face_mesh\n",
    "faceMesh = mpFaceMesh.FaceMesh(max_num_faces=2)\n",
    "\n",
    "mpDraw = mp.solutions.drawing_utils\n",
    "drawSpec = mpDraw.DrawingSpec(thickness=1, circle_radius=1)"
   ]
  },
  {
   "cell_type": "code",
   "execution_count": 9,
   "id": "6a7ef580",
   "metadata": {},
   "outputs": [],
   "source": [
    "cap = cv2.VideoCapture(0)\n",
    "while True:\n",
    "    success, img = cap.read()\n",
    "    \n",
    "    imgRGB = cv2.cvtColor(img, cv2.COLOR_BGR2RGB)\n",
    "    results = faceMesh.process(imgRGB)\n",
    "    \n",
    "    if(results.multi_face_landmarks):\n",
    "        for faceLms in results.multi_face_landmarks:\n",
    "            mpDraw.draw_landmarks(img, faceLms, mpFaceMesh.FACEMESH_CONTOURS, drawSpec,drawSpec)\n",
    "            \n",
    "#             for id, lms in enumerate(faceLms.landmark):\n",
    "#                 ih, iw, ic = img.shape\n",
    "#                 x,y = int(lms.x*iw),int(lms.y*ih)\n",
    "#                 if(id==0):\n",
    "#                     cv2.circle(img,(x,y),2, (255,8,255), cv2.FILLED)\n",
    "   \n",
    "    cv2.imshow(\"Face Mesh\",img)\n",
    "    imgRGB = cv2.cvtColor(img, cv2.COLOR_BGR2RGB)\n",
    "    if cv2.waitKey(1) & 0xFF == ord('q'):\n",
    "        break\n",
    "    \n",
    "    if cv2.getWindowProperty(\"Face Mesh\", cv2.WND_PROP_VISIBLE) <1:\n",
    "        break\n",
    "cap.release()\n",
    "cv2.destroyAllWindows()"
   ]
  },
  {
   "cell_type": "code",
   "execution_count": 8,
   "id": "98292d6b",
   "metadata": {},
   "outputs": [],
   "source": [
    "cap.release()\n",
    "cv2.destroyAllWindows()"
   ]
  }
 ],
 "metadata": {
  "kernelspec": {
   "display_name": "Python 3",
   "language": "python",
   "name": "python3"
  },
  "language_info": {
   "codemirror_mode": {
    "name": "ipython",
    "version": 3
   },
   "file_extension": ".py",
   "mimetype": "text/x-python",
   "name": "python",
   "nbconvert_exporter": "python",
   "pygments_lexer": "ipython3",
   "version": "3.9.0"
  }
 },
 "nbformat": 4,
 "nbformat_minor": 5
}
