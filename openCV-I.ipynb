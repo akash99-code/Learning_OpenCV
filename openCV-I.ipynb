{
 "cells": [
  {
   "cell_type": "code",
   "execution_count": 2,
   "id": "fc2c2d75",
   "metadata": {},
   "outputs": [],
   "source": [
    "import cv2 as cv\n",
    "import numpy as np\n",
    "import os"
   ]
  },
  {
   "cell_type": "markdown",
   "id": "9964c64b",
   "metadata": {},
   "source": [
    "reading images"
   ]
  },
  {
   "cell_type": "code",
   "execution_count": 3,
   "id": "f3720336",
   "metadata": {},
   "outputs": [
    {
     "data": {
      "text/plain": [
       "-1"
      ]
     },
     "execution_count": 3,
     "metadata": {},
     "output_type": "execute_result"
    }
   ],
   "source": [
    "img = cv.imread('images/car.jpg')\n",
    "cv.imshow('car',img)\n",
    "cv.waitKey(0)"
   ]
  },
  {
   "cell_type": "markdown",
   "id": "85fed11d",
   "metadata": {},
   "source": [
    "reading videos"
   ]
  },
  {
   "cell_type": "code",
   "execution_count": 4,
   "id": "565a111f",
   "metadata": {},
   "outputs": [],
   "source": [
    "capture = cv.VideoCapture('videos/vid2.mp4')\n",
    "while True:\n",
    "    isTrue, frame = capture.read()\n",
    "    cv.imshow('video', frame)\n",
    "    if cv.waitKey(20) & 0xFF==ord('d'):\n",
    "        break\n",
    "        \n",
    "capture.release()\n",
    "cv.destroyAllWindows()"
   ]
  },
  {
   "cell_type": "markdown",
   "id": "59fef8ea",
   "metadata": {},
   "source": [
    "Rescaling"
   ]
  },
  {
   "cell_type": "code",
   "execution_count": 4,
   "id": "1ead9959",
   "metadata": {},
   "outputs": [],
   "source": [
    "def rescaleFrame(frame, scale=0.75):\n",
    "    width = int(frame.shape[1]*scale)\n",
    "    height = int(frame.shape[0]*scale)\n",
    "    newdim = (width, height)\n",
    "    return cv.resize(frame, newdim, interpolation=cv.INTER_AREA)\n"
   ]
  },
  {
   "cell_type": "code",
   "execution_count": null,
   "id": "b66eab08",
   "metadata": {},
   "outputs": [],
   "source": [
    "#video rescaling\n",
    "capture = cv.VideoCapture('videos/vid2.mp4')\n",
    "while True:\n",
    "    isTrue, frame = capture.read()\n",
    "    frame_rescaled = rescaleFrame(frame, scale=0.2)\n",
    "    cv.imshow('video resized', frame_rescaled)\n",
    "    if cv.waitKey(20) & 0xFF==ord('d'):\n",
    "        break\n",
    "        \n",
    "capture.release()\n",
    "cv.destroyAllWindows()"
   ]
  },
  {
   "cell_type": "code",
   "execution_count": 5,
   "id": "808b4858",
   "metadata": {
    "scrolled": true
   },
   "outputs": [
    {
     "data": {
      "text/plain": [
       "-1"
      ]
     },
     "execution_count": 5,
     "metadata": {},
     "output_type": "execute_result"
    }
   ],
   "source": [
    "#image rescaling\n",
    "img_rescaled= rescaleFrame(img,0.2)\n",
    "cv.imshow('car',img_rescaled)\n",
    "cv.waitKey(0)"
   ]
  },
  {
   "cell_type": "code",
   "execution_count": null,
   "id": "9f6085d2",
   "metadata": {},
   "outputs": [],
   "source": [
    "##for live video only....\n",
    "def changeRes(width, height):\n",
    "    capture.set(3, width)\n",
    "    capture.set(4,height)"
   ]
  },
  {
   "cell_type": "markdown",
   "id": "f268a712",
   "metadata": {},
   "source": [
    "drawing"
   ]
  },
  {
   "cell_type": "code",
   "execution_count": 2,
   "id": "8cfabaf7",
   "metadata": {},
   "outputs": [
    {
     "data": {
      "text/plain": [
       "-1"
      ]
     },
     "execution_count": 2,
     "metadata": {},
     "output_type": "execute_result"
    }
   ],
   "source": [
    "blankPic = np.zeros((500,500,3))\n",
    "cv.imshow('blank', blankPic)\n",
    "blankPic[:]= 0, 255, 0\n",
    "cv.imshow('green', blankPic)\n",
    "cv.waitKey(0)"
   ]
  },
  {
   "cell_type": "code",
   "execution_count": 9,
   "id": "73266b08",
   "metadata": {},
   "outputs": [
    {
     "data": {
      "text/plain": [
       "-1"
      ]
     },
     "execution_count": 9,
     "metadata": {},
     "output_type": "execute_result"
    }
   ],
   "source": [
    "randpic = (np.random.randint(0,2,500*500*3).reshape(500,500,3))/1.0\n",
    "cv.imshow('random',randpic)\n",
    "cv.waitKey(0)"
   ]
  },
  {
   "cell_type": "code",
   "execution_count": 20,
   "id": "47985aef",
   "metadata": {},
   "outputs": [
    {
     "data": {
      "text/plain": [
       "-1"
      ]
     },
     "execution_count": 20,
     "metadata": {},
     "output_type": "execute_result"
    }
   ],
   "source": [
    "##rectangle\n",
    "canvas = np.zeros((500,500,3))\n",
    "cv.rectangle(canvas, (0,0), (250,250), (0,255,0), thickness=2)\n",
    "cv.imshow('rect',canvas)\n",
    "cv.waitKey(0)"
   ]
  },
  {
   "cell_type": "code",
   "execution_count": 13,
   "id": "bbf596ad",
   "metadata": {},
   "outputs": [
    {
     "data": {
      "text/plain": [
       "-1"
      ]
     },
     "execution_count": 13,
     "metadata": {},
     "output_type": "execute_result"
    }
   ],
   "source": [
    "cv.rectangle(canvas, (0,0), (250,250), (0,255,0), thickness=-1) ## fill rectangle\n",
    "cv.imshow('rect',canvas)\n",
    "cv.waitKey(0)"
   ]
  },
  {
   "cell_type": "code",
   "execution_count": 14,
   "id": "af654357",
   "metadata": {},
   "outputs": [
    {
     "data": {
      "text/plain": [
       "-1"
      ]
     },
     "execution_count": 14,
     "metadata": {},
     "output_type": "execute_result"
    }
   ],
   "source": [
    "##circle\n",
    "cv.circle(canvas,(250,250), 125, (0,0,255), thickness=1)\n",
    "cv.imshow('circle', canvas)\n",
    "cv.waitKey(0)"
   ]
  },
  {
   "cell_type": "code",
   "execution_count": 16,
   "id": "1e3ea982",
   "metadata": {},
   "outputs": [
    {
     "data": {
      "text/plain": [
       "-1"
      ]
     },
     "execution_count": 16,
     "metadata": {},
     "output_type": "execute_result"
    }
   ],
   "source": [
    "##line\n",
    "cv.line(canvas, (250,250), (500,500), (255,0,0), thickness=1)\n",
    "cv.imshow('line', canvas)\n",
    "cv.waitKey(0)"
   ]
  },
  {
   "cell_type": "code",
   "execution_count": 21,
   "id": "e6a5f920",
   "metadata": {},
   "outputs": [
    {
     "data": {
      "text/plain": [
       "-1"
      ]
     },
     "execution_count": 21,
     "metadata": {},
     "output_type": "execute_result"
    }
   ],
   "source": [
    "##text\n",
    "cv.putText(canvas, 'Hello', (255,255), cv.FONT_HERSHEY_TRIPLEX, 0.5, (0,255,255), thickness=1)\n",
    "cv.imshow('text', canvas)\n",
    "cv.waitKey(0)"
   ]
  },
  {
   "cell_type": "markdown",
   "id": "95529228",
   "metadata": {},
   "source": [
    "basic functionalities"
   ]
  },
  {
   "cell_type": "code",
   "execution_count": 6,
   "id": "57de2b35",
   "metadata": {},
   "outputs": [
    {
     "data": {
      "text/plain": [
       "-1"
      ]
     },
     "execution_count": 6,
     "metadata": {},
     "output_type": "execute_result"
    }
   ],
   "source": [
    "# converting to grayscale\n",
    "img_BnW = cv.cvtColor(img_rescaled, cv.COLOR_BGR2GRAY)\n",
    "cv.imshow('carB&W', img_BnW)\n",
    "cv.waitKey(0)"
   ]
  },
  {
   "cell_type": "code",
   "execution_count": 19,
   "id": "03e02ce1",
   "metadata": {},
   "outputs": [
    {
     "data": {
      "text/plain": [
       "-1"
      ]
     },
     "execution_count": 19,
     "metadata": {},
     "output_type": "execute_result"
    }
   ],
   "source": [
    "# blurring\n",
    "img_blur = cv.GaussianBlur(img_rescaled, (3,3), cv.BORDER_DEFAULT)\n",
    "cv.imshow('imgBlurred', img_blur)\n",
    "cv.waitKey(0)\n",
    "\n",
    "img_blur2 = cv.GaussianBlur(img_rescaled, (7,7), cv.BORDER_DEFAULT)\n",
    "cv.imshow('imgBlurred', img_blur2)\n",
    "cv.waitKey(0)"
   ]
  },
  {
   "cell_type": "code",
   "execution_count": 7,
   "id": "dabb130f",
   "metadata": {},
   "outputs": [
    {
     "ename": "NameError",
     "evalue": "name 'img_blur' is not defined",
     "output_type": "error",
     "traceback": [
      "\u001b[1;31m---------------------------------------------------------------------------\u001b[0m",
      "\u001b[1;31mNameError\u001b[0m                                 Traceback (most recent call last)",
      "\u001b[1;32m<ipython-input-7-0786c55f7dd0>\u001b[0m in \u001b[0;36m<module>\u001b[1;34m\u001b[0m\n\u001b[0;32m      4\u001b[0m \u001b[0mcv\u001b[0m\u001b[1;33m.\u001b[0m\u001b[0mwaitKey\u001b[0m\u001b[1;33m(\u001b[0m\u001b[1;36m0\u001b[0m\u001b[1;33m)\u001b[0m\u001b[1;33m\u001b[0m\u001b[1;33m\u001b[0m\u001b[0m\n\u001b[0;32m      5\u001b[0m \u001b[1;33m\u001b[0m\u001b[0m\n\u001b[1;32m----> 6\u001b[1;33m \u001b[0mimg_edges2\u001b[0m \u001b[1;33m=\u001b[0m \u001b[0mcv\u001b[0m\u001b[1;33m.\u001b[0m\u001b[0mCanny\u001b[0m\u001b[1;33m(\u001b[0m\u001b[0mimg_blur\u001b[0m\u001b[1;33m,\u001b[0m \u001b[1;36m125\u001b[0m\u001b[1;33m,\u001b[0m\u001b[1;36m175\u001b[0m\u001b[1;33m)\u001b[0m\u001b[1;33m\u001b[0m\u001b[1;33m\u001b[0m\u001b[0m\n\u001b[0m\u001b[0;32m      7\u001b[0m \u001b[0mcv\u001b[0m\u001b[1;33m.\u001b[0m\u001b[0mimshow\u001b[0m\u001b[1;33m(\u001b[0m\u001b[1;34m'canny edges'\u001b[0m\u001b[1;33m,\u001b[0m \u001b[0mimg_edges2\u001b[0m\u001b[1;33m)\u001b[0m\u001b[1;33m\u001b[0m\u001b[1;33m\u001b[0m\u001b[0m\n\u001b[0;32m      8\u001b[0m \u001b[0mcv\u001b[0m\u001b[1;33m.\u001b[0m\u001b[0mwaitKey\u001b[0m\u001b[1;33m(\u001b[0m\u001b[1;36m0\u001b[0m\u001b[1;33m)\u001b[0m\u001b[1;33m\u001b[0m\u001b[1;33m\u001b[0m\u001b[0m\n",
      "\u001b[1;31mNameError\u001b[0m: name 'img_blur' is not defined"
     ]
    }
   ],
   "source": [
    "# Edge Cascading\n",
    "img_edges = cv.Canny(img_rescaled, 125,175)\n",
    "cv.imshow('canny edges', img_edges)\n",
    "cv.waitKey(0)\n",
    "\n",
    "img_edges2 = cv.Canny(img_blur, 125,175)\n",
    "cv.imshow('canny edges', img_edges2)\n",
    "cv.waitKey(0)"
   ]
  },
  {
   "cell_type": "code",
   "execution_count": 35,
   "id": "b33d84d0",
   "metadata": {},
   "outputs": [
    {
     "data": {
      "text/plain": [
       "-1"
      ]
     },
     "execution_count": 35,
     "metadata": {},
     "output_type": "execute_result"
    }
   ],
   "source": [
    "# dilating\n",
    "img_dilated = cv.dilate(img_rescaled, (7,7), iterations=3)\n",
    "cv.imshow('dilated', img_dilated)\n",
    "cv.waitKey(0)\n",
    "\n",
    "img_dilated2 = cv.dilate(img_edges, (7,7), iterations=3)\n",
    "cv.imshow('dilated', img_dilated2)\n",
    "cv.waitKey(0)"
   ]
  },
  {
   "cell_type": "code",
   "execution_count": 36,
   "id": "890c4a74",
   "metadata": {},
   "outputs": [
    {
     "data": {
      "text/plain": [
       "-1"
      ]
     },
     "execution_count": 36,
     "metadata": {},
     "output_type": "execute_result"
    }
   ],
   "source": [
    "# eroding\n",
    "img_eroded = cv.erode(img_rescaled, (7,7), iterations=3)\n",
    "cv.imshow('eroded', img_eroded)\n",
    "cv.waitKey(0)\n",
    "\n",
    "img_eroded = cv.erode(img_dilated2, (7,7), iterations=3)\n",
    "cv.imshow('eroded', img_eroded)\n",
    "cv.waitKey(0)\n",
    "\n",
    "# * img -> cascaded_Img -> dilated -> eroded -> cascaded_Img"
   ]
  },
  {
   "cell_type": "code",
   "execution_count": 38,
   "id": "f39ac2db",
   "metadata": {},
   "outputs": [
    {
     "data": {
      "text/plain": [
       "-1"
      ]
     },
     "execution_count": 38,
     "metadata": {},
     "output_type": "execute_result"
    }
   ],
   "source": [
    "# resizing\n",
    "img_resized = cv.resize(img, (250,250), interpolation=cv.INTER_AREA) ##cv.INTER_LINEAR,<cv.INTER_CUBIC\n",
    "cv.imshow('resized', img_resized)\n",
    "cv.waitKey(0)"
   ]
  },
  {
   "cell_type": "code",
   "execution_count": 40,
   "id": "816721dd",
   "metadata": {
    "scrolled": true
   },
   "outputs": [
    {
     "data": {
      "text/plain": [
       "-1"
      ]
     },
     "execution_count": 40,
     "metadata": {},
     "output_type": "execute_result"
    }
   ],
   "source": [
    "# cropping\n",
    "img_cropped = img_rescaled[0:250,250:500]  ## y1,y2,x1,x2\n",
    "cv.imshow('cropped', img_cropped)\n",
    "cv.waitKey(0)"
   ]
  },
  {
   "cell_type": "markdown",
   "id": "ed971d71",
   "metadata": {},
   "source": [
    "Transformation"
   ]
  },
  {
   "cell_type": "code",
   "execution_count": 41,
   "id": "b9983f27",
   "metadata": {},
   "outputs": [
    {
     "data": {
      "text/plain": [
       "-1"
      ]
     },
     "execution_count": 41,
     "metadata": {},
     "output_type": "execute_result"
    }
   ],
   "source": [
    "# translation\n",
    "def translate(img, x, y):\n",
    "    transMat = np.float32([[1,0,x], [0,1,y]])\n",
    "    dims = (img.shape[1], img.shape[0])\n",
    "    return cv.warpAffine(img, transMat, dims)\n",
    "\n",
    "img_translated = translate(img_rescaled, 100, 100)\n",
    "cv.imshow('translated', img_translated)\n",
    "cv.waitKey(0)"
   ]
  },
  {
   "cell_type": "code",
   "execution_count": 45,
   "id": "591fbc84",
   "metadata": {},
   "outputs": [
    {
     "data": {
      "text/plain": [
       "-1"
      ]
     },
     "execution_count": 45,
     "metadata": {},
     "output_type": "execute_result"
    }
   ],
   "source": [
    "# rotation\n",
    "def rotate(img, angle, rotPoint=None):\n",
    "    (height, width) = img.shape[:2]\n",
    "    if rotPoint is None:\n",
    "        rotPoint = (width//2, height//2)\n",
    "    rotMat = cv.getRotationMatrix2D(rotPoint, angle, 1.0)\n",
    "    dims = (width, height)\n",
    "    return cv.warpAffine(img, rotMat, dims)\n",
    "\n",
    "img_rotated = rotate(img_rescaled, 45)\n",
    "cv.imshow('rotated', img_rotated)\n",
    "cv.waitKey(0)\n",
    "\n",
    "img_rotated = rotate(img_rotated, -45)\n",
    "cv.imshow('rotated', img_rotated)\n",
    "cv.waitKey(0)"
   ]
  },
  {
   "cell_type": "code",
   "execution_count": 50,
   "id": "1d068f40",
   "metadata": {},
   "outputs": [
    {
     "data": {
      "text/plain": [
       "-1"
      ]
     },
     "execution_count": 50,
     "metadata": {},
     "output_type": "execute_result"
    }
   ],
   "source": [
    "# flipping\n",
    "img_flipped = cv.flip(img_rescaled, 1) ## 0 Vf, 1 Hf, -1 VHf\n",
    "cv.imshow('flipped', img_flipped)\n",
    "cv.waitKey(0)"
   ]
  },
  {
   "cell_type": "markdown",
   "id": "68ee43da",
   "metadata": {},
   "source": [
    "Contour Detection"
   ]
  },
  {
   "cell_type": "code",
   "execution_count": 9,
   "id": "3b1dd175",
   "metadata": {},
   "outputs": [
    {
     "name": "stdout",
     "output_type": "stream",
     "text": [
      "597 Contours Found\n"
     ]
    }
   ],
   "source": [
    "cv.imshow('BnW', img_BnW)\n",
    "cv.imshow('edges', img_edges)\n",
    "cv.waitKey(0)\n",
    "\n",
    "# contours, hierarchies = cv.findContours(img_edges, cv.RETR_LIST, cv.CHAIN_APPROX_SIMPLE)\n",
    "# print(f'{len(contours)} Contours Found')  #-- 846\n",
    "\n",
    "ret, img_thresh = cv.threshold(img_BnW, 125, 255, cv.THRESH_BINARY)\n",
    "cv.imshow('Thresh', img_thresh)\n",
    "cv.waitKey(0)\n",
    "\n",
    "contours, hierarchies = cv.findContours(img_thresh, cv.RETR_LIST, cv.CHAIN_APPROX_SIMPLE)  # takes only grayscaled images\n",
    "print(f'{len(contours)} Contours Found') #-- 597\n"
   ]
  },
  {
   "cell_type": "code",
   "execution_count": 13,
   "id": "6d9aa9e8",
   "metadata": {},
   "outputs": [
    {
     "data": {
      "text/plain": [
       "-1"
      ]
     },
     "execution_count": 13,
     "metadata": {},
     "output_type": "execute_result"
    }
   ],
   "source": [
    "# displaying the contours\n",
    "canvas = np.zeros(img_rescaled.shape)\n",
    "cv.drawContours(canvas, contours, -1, (0,0,255), thickness=1)\n",
    "cv.imshow('contours drawn', canvas)\n",
    "cv.imshow('edges', img_edges)\n",
    "cv.waitKey(0)\n"
   ]
  },
  {
   "cell_type": "code",
   "execution_count": null,
   "id": "ae736c4f",
   "metadata": {},
   "outputs": [],
   "source": []
  }
 ],
 "metadata": {
  "kernelspec": {
   "display_name": "Python 3",
   "language": "python",
   "name": "python3"
  },
  "language_info": {
   "codemirror_mode": {
    "name": "ipython",
    "version": 3
   },
   "file_extension": ".py",
   "mimetype": "text/x-python",
   "name": "python",
   "nbconvert_exporter": "python",
   "pygments_lexer": "ipython3",
   "version": "3.9.0"
  }
 },
 "nbformat": 4,
 "nbformat_minor": 5
}
