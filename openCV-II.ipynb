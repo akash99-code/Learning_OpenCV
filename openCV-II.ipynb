{
 "cells": [
  {
   "cell_type": "code",
   "execution_count": 1,
   "id": "6b371e72",
   "metadata": {},
   "outputs": [],
   "source": [
    "import cv2 as cv\n",
    "import numpy as np\n",
    "import matplotlib.pyplot as plt"
   ]
  },
  {
   "cell_type": "code",
   "execution_count": 2,
   "id": "f9f82b80",
   "metadata": {},
   "outputs": [
    {
     "data": {
      "text/plain": [
       "-1"
      ]
     },
     "execution_count": 2,
     "metadata": {},
     "output_type": "execute_result"
    }
   ],
   "source": [
    "img = cv.imread('images/desert.jpg')\n",
    "img = cv.resize(img, (int(img.shape[1]*0.2),int(img.shape[0]*0.2)), interpolation=cv.INTER_AREA)\n",
    "cv.imshow('desert',img)\n",
    "cv.waitKey(0)"
   ]
  },
  {
   "cell_type": "markdown",
   "id": "6b771284",
   "metadata": {},
   "source": [
    "Color Spaces"
   ]
  },
  {
   "cell_type": "code",
   "execution_count": 3,
   "id": "dd221704",
   "metadata": {},
   "outputs": [
    {
     "data": {
      "text/plain": [
       "-1"
      ]
     },
     "execution_count": 3,
     "metadata": {},
     "output_type": "execute_result"
    }
   ],
   "source": [
    "#gray\n",
    "gray = cv.cvtColor(img, cv.COLOR_BGR2GRAY)\n",
    "cv.imshow('gray',gray)\n",
    "cv.waitKey(0)"
   ]
  },
  {
   "cell_type": "code",
   "execution_count": 11,
   "id": "af821876",
   "metadata": {},
   "outputs": [
    {
     "data": {
      "text/plain": [
       "-1"
      ]
     },
     "execution_count": 11,
     "metadata": {},
     "output_type": "execute_result"
    }
   ],
   "source": [
    "#hsv\n",
    "hsv = cv.cvtColor(img, cv.COLOR_BGR2HSV)\n",
    "cv.imshow('hsv',hsv)\n",
    "cv.waitKey(0)"
   ]
  },
  {
   "cell_type": "code",
   "execution_count": 12,
   "id": "f4214dba",
   "metadata": {},
   "outputs": [
    {
     "data": {
      "text/plain": [
       "-1"
      ]
     },
     "execution_count": 12,
     "metadata": {},
     "output_type": "execute_result"
    }
   ],
   "source": [
    "#LAB\n",
    "lab = cv.cvtColor(img, cv.COLOR_BGR2LAB)\n",
    "cv.imshow('lab',lab)\n",
    "cv.waitKey(0)"
   ]
  },
  {
   "cell_type": "code",
   "execution_count": 13,
   "id": "bc600a4d",
   "metadata": {},
   "outputs": [
    {
     "data": {
      "text/plain": [
       "-1"
      ]
     },
     "execution_count": 13,
     "metadata": {},
     "output_type": "execute_result"
    }
   ],
   "source": [
    "#RGB\n",
    "rgb = cv.cvtColor(img, cv.COLOR_BGR2RGB)  ## basically inverses the colors\n",
    "cv.imshow('rgb',rgb)\n",
    "cv.waitKey(0)"
   ]
  },
  {
   "cell_type": "code",
   "execution_count": 19,
   "id": "f86fd7fe",
   "metadata": {},
   "outputs": [
    {
     "data": {
      "text/plain": [
       "-1"
      ]
     },
     "execution_count": 19,
     "metadata": {},
     "output_type": "execute_result"
    }
   ],
   "source": [
    "#HSV2BGR\n",
    "hsv2bgr = cv.cvtColor(hsv, cv.COLOR_HSV2BGR)\n",
    "cv.imshow('hsv2bgr',hsv2bgr)\n",
    "cv.waitKey(0)"
   ]
  },
  {
   "cell_type": "markdown",
   "id": "57665c3a",
   "metadata": {},
   "source": [
    "Color Channels"
   ]
  },
  {
   "cell_type": "code",
   "execution_count": 20,
   "id": "66305051",
   "metadata": {},
   "outputs": [
    {
     "data": {
      "text/plain": [
       "-1"
      ]
     },
     "execution_count": 20,
     "metadata": {},
     "output_type": "execute_result"
    }
   ],
   "source": [
    "#splitting\n",
    "B, G, R = cv.split(img)\n",
    "cv.imshow('BLue',B)\n",
    "cv.imshow('Green',G)\n",
    "cv.imshow('Red',R)\n",
    "cv.waitKey(0)"
   ]
  },
  {
   "cell_type": "code",
   "execution_count": 22,
   "id": "da283f3c",
   "metadata": {},
   "outputs": [
    {
     "data": {
      "text/plain": [
       "-1"
      ]
     },
     "execution_count": 22,
     "metadata": {},
     "output_type": "execute_result"
    }
   ],
   "source": [
    "#merging\n",
    "merged = cv.merge([B,G,R])\n",
    "cv.imshow('merged',merged)\n",
    "cv.imshow('desert',img)\n",
    "cv.waitKey(0)"
   ]
  },
  {
   "cell_type": "code",
   "execution_count": 28,
   "id": "cfa97387",
   "metadata": {},
   "outputs": [
    {
     "data": {
      "text/plain": [
       "-1"
      ]
     },
     "execution_count": 28,
     "metadata": {},
     "output_type": "execute_result"
    }
   ],
   "source": [
    "blank = np.zeros(img.shape[:2], dtype='uint8')\n",
    "blue = cv.merge([B,blank,blank])\n",
    "green = cv.merge([blank,G,blank])\n",
    "red = cv.merge([blank,blank,R])\n",
    "\n",
    "cv.imshow('BLue',blue)\n",
    "cv.imshow('Green',green)\n",
    "cv.imshow('Red',red)\n",
    "cv.waitKey(0)"
   ]
  },
  {
   "cell_type": "markdown",
   "id": "88d33351",
   "metadata": {},
   "source": [
    "Blurring technix"
   ]
  },
  {
   "cell_type": "code",
   "execution_count": 30,
   "id": "5f34f190",
   "metadata": {},
   "outputs": [
    {
     "data": {
      "text/plain": [
       "-1"
      ]
     },
     "execution_count": 30,
     "metadata": {},
     "output_type": "execute_result"
    }
   ],
   "source": [
    "# Averaging\n",
    "avg = cv.blur(img,(3,3))\n",
    "cv.imshow('avg',avg)\n",
    "avg2 = cv.blur(img,(7,7))\n",
    "cv.imshow('avg2',avg2)\n",
    "cv.waitKey(0)"
   ]
  },
  {
   "cell_type": "code",
   "execution_count": 32,
   "id": "7f767eb8",
   "metadata": {},
   "outputs": [
    {
     "data": {
      "text/plain": [
       "-1"
      ]
     },
     "execution_count": 32,
     "metadata": {},
     "output_type": "execute_result"
    }
   ],
   "source": [
    "# Gaussian\n",
    "gauss = cv.GaussianBlur(img, (7,7), 0)\n",
    "cv.imshow('gauss', gauss)\n",
    "#cv.imshow('avg2',avg2)\n",
    "cv.waitKey(0)"
   ]
  },
  {
   "cell_type": "code",
   "execution_count": 34,
   "id": "8b0fecc8",
   "metadata": {},
   "outputs": [
    {
     "data": {
      "text/plain": [
       "-1"
      ]
     },
     "execution_count": 34,
     "metadata": {},
     "output_type": "execute_result"
    }
   ],
   "source": [
    "#Median Blur\n",
    "median = cv.medianBlur(img,7)  ##used reducing noise\n",
    "cv.imshow('median',median)\n",
    "cv.waitKey(0)"
   ]
  },
  {
   "cell_type": "code",
   "execution_count": 37,
   "id": "b51ed5c2",
   "metadata": {},
   "outputs": [
    {
     "data": {
      "text/plain": [
       "-1"
      ]
     },
     "execution_count": 37,
     "metadata": {},
     "output_type": "execute_result"
    }
   ],
   "source": [
    "#Bilateral Blur\n",
    "bilateral = cv.bilateralFilter(img,15,25,25)  \n",
    "cv.imshow('Bilateral',bilateral)\n",
    "cv.waitKey(0)"
   ]
  },
  {
   "cell_type": "markdown",
   "id": "79c1fd91",
   "metadata": {},
   "source": [
    "Bitwise Operations"
   ]
  },
  {
   "cell_type": "code",
   "execution_count": 38,
   "id": "5d1a9f16",
   "metadata": {},
   "outputs": [
    {
     "data": {
      "text/plain": [
       "-1"
      ]
     },
     "execution_count": 38,
     "metadata": {},
     "output_type": "execute_result"
    }
   ],
   "source": [
    "blank = np.zeros((400,400))\n",
    "rectangle = cv.rectangle(blank.copy(), (30,30), (370,370), 255, -1)\n",
    "circle = cv.circle(blank.copy(), (200,200), 200, 255, -1)\n",
    "cv.imshow('rectangle',rectangle)\n",
    "cv.imshow('circle',circle)\n",
    "cv.waitKey(0)"
   ]
  },
  {
   "cell_type": "code",
   "execution_count": 44,
   "id": "cfba9e1c",
   "metadata": {},
   "outputs": [
    {
     "data": {
      "text/plain": [
       "-1"
      ]
     },
     "execution_count": 44,
     "metadata": {},
     "output_type": "execute_result"
    }
   ],
   "source": [
    "bitAND = cv.bitwise_and(rectangle, circle)\n",
    "bitOR = cv.bitwise_or(rectangle, circle)\n",
    "bitXOR = cv.bitwise_xor(rectangle, circle)\n",
    "bitNOT = cv.bitwise_not(rectangle)\n",
    "\n",
    "\n",
    "cv.imshow('bitAND',bitAND) #intersection\n",
    "cv.imshow('bitOR',bitOR)  #union\n",
    "cv.imshow('bitXOR',bitXOR) #non-intersection\n",
    "cv.imshow('bitNOT',bitNOT) #inverse\n",
    "cv.waitKey(0)"
   ]
  },
  {
   "cell_type": "markdown",
   "id": "899689d2",
   "metadata": {},
   "source": [
    "Masking"
   ]
  },
  {
   "cell_type": "code",
   "execution_count": 4,
   "id": "b5d4e1e0",
   "metadata": {},
   "outputs": [
    {
     "data": {
      "text/plain": [
       "-1"
      ]
     },
     "execution_count": 4,
     "metadata": {},
     "output_type": "execute_result"
    }
   ],
   "source": [
    "blank = np.zeros(img.shape[:2], dtype='uint8')\n",
    "mask = cv.circle(blank, (img.shape[1]//2,img.shape[0]//2),100, 255, -1)\n",
    "cv.imshow('mask',mask)\n",
    "cv.waitKey(0)"
   ]
  },
  {
   "cell_type": "code",
   "execution_count": 8,
   "id": "dd044c92",
   "metadata": {},
   "outputs": [
    {
     "data": {
      "text/plain": [
       "-1"
      ]
     },
     "execution_count": 8,
     "metadata": {},
     "output_type": "execute_result"
    }
   ],
   "source": [
    "masked = cv.bitwise_and(img, img, mask=mask)\n",
    "cv.imshow('masked',masked)\n",
    "cv.waitKey(0)"
   ]
  },
  {
   "cell_type": "markdown",
   "id": "9f325f49",
   "metadata": {},
   "source": [
    "Histogram Computation"
   ]
  },
  {
   "cell_type": "code",
   "execution_count": 11,
   "id": "45f4b2cf",
   "metadata": {
    "scrolled": true
   },
   "outputs": [
    {
     "data": {
      "text/plain": [
       "[<matplotlib.lines.Line2D at 0x2ab7fda1250>]"
      ]
     },
     "execution_count": 11,
     "metadata": {},
     "output_type": "execute_result"
    },
    {
     "data": {
      "image/png": "[encoded data removed]",
      "text/plain": [
       "<Figure size 432x288 with 1 Axes>"
      ]
     },
     "metadata": {
      "needs_background": "light"
     },
     "output_type": "display_data"
    }
   ],
   "source": [
    "# GrayScale histogram\n",
    "gray_hist = cv.calcHist([gray], [0], None, [256], [0,256])\n",
    "plt.xlabel('bins')\n",
    "plt.ylabel('No_of_Pixels')\n",
    "plt.plot(gray_hist)"
   ]
  },
  {
   "cell_type": "code",
   "execution_count": 12,
   "id": "4d27b340",
   "metadata": {
    "scrolled": true
   },
   "outputs": [
    {
     "data": {
      "text/plain": [
       "[<matplotlib.lines.Line2D at 0x2ab0118da90>]"
      ]
     },
     "execution_count": 12,
     "metadata": {},
     "output_type": "execute_result"
    },
    {
     "data": {
      "image/png": "[encoded data removed]",
      "text/plain": [
       "<Figure size 432x288 with 1 Axes>"
      ]
     },
     "metadata": {
      "needs_background": "light"
     },
     "output_type": "display_data"
    }
   ],
   "source": [
    "gray_masked = cv.bitwise_and(gray, gray, mask=mask)\n",
    "cv.imshow('gray_masked',gray_masked)\n",
    "cv.waitKey(0)\n",
    "gray_masked_hist = cv.calcHist([gray], [0], gray_masked, [256], [0,256])\n",
    "plt.plot(gray_masked_hist)"
   ]
  },
  {
   "cell_type": "code",
   "execution_count": 13,
   "id": "0279ac9e",
   "metadata": {
    "scrolled": false
   },
   "outputs": [
    {
     "data": {
      "image/png": "[encoded data removed]",
      "text/plain": [
       "<Figure size 432x288 with 1 Axes>"
      ]
     },
     "metadata": {
      "needs_background": "light"
     },
     "output_type": "display_data"
    }
   ],
   "source": [
    "# Color Histogram\n",
    "colors = ('b', 'g', 'r')\n",
    "for i,col in enumerate(colors):\n",
    "    hist = cv.calcHist([img], [i], None, [256], [0,256])\n",
    "    plt.plot(hist, color=col)\n",
    "plt.show()"
   ]
  },
  {
   "cell_type": "markdown",
   "id": "dc04cda5",
   "metadata": {},
   "source": [
    "Image Thresholding"
   ]
  },
  {
   "cell_type": "code",
   "execution_count": 20,
   "id": "57da1aa5",
   "metadata": {
    "scrolled": true
   },
   "outputs": [
    {
     "data": {
      "text/plain": [
       "-1"
      ]
     },
     "execution_count": 20,
     "metadata": {},
     "output_type": "execute_result"
    }
   ],
   "source": [
    "# simple thresholding\n",
    "threshold, thresh = cv.threshold(gray, 100, 255, cv.THRESH_BINARY)\n",
    "cv.imshow('simple_threshold',thresh)\n",
    "cv.waitKey(0)"
   ]
  },
  {
   "cell_type": "code",
   "execution_count": 5,
   "id": "ae28c507",
   "metadata": {},
   "outputs": [
    {
     "data": {
      "text/plain": [
       "-1"
      ]
     },
     "execution_count": 5,
     "metadata": {},
     "output_type": "execute_result"
    }
   ],
   "source": [
    "threshold, thresh = cv.threshold(gray, 100, 255, cv.THRESH_BINARY_INV)\n",
    "cv.imshow('simple_thresh inverse',thresh)\n",
    "cv.waitKey(0)"
   ]
  },
  {
   "cell_type": "code",
   "execution_count": 11,
   "id": "a85861c5",
   "metadata": {},
   "outputs": [
    {
     "data": {
      "text/plain": [
       "-1"
      ]
     },
     "execution_count": 11,
     "metadata": {},
     "output_type": "execute_result"
    }
   ],
   "source": [
    "# adaptive thresholding\n",
    "adaptive_thresh = cv.adaptiveThreshold(gray, 255, cv.ADAPTIVE_THRESH_MEAN_C, cv.THRESH_BINARY, 5, 0)\n",
    "cv.imshow('adptive thesholding', adaptive_thresh)\n",
    "cv.waitKey(0)"
   ]
  },
  {
   "cell_type": "code",
   "execution_count": 13,
   "id": "75b0eb5d",
   "metadata": {},
   "outputs": [
    {
     "data": {
      "text/plain": [
       "-1"
      ]
     },
     "execution_count": 13,
     "metadata": {},
     "output_type": "execute_result"
    }
   ],
   "source": [
    "adaptive_thresh_gauss = cv.adaptiveThreshold(gray, 255, cv.ADAPTIVE_THRESH_GAUSSIAN_C, cv.THRESH_BINARY, 11,3)\n",
    "cv.imshow('adptive gaussian thesholding', adaptive_thresh_gauss)\n",
    "cv.waitKey(0)"
   ]
  },
  {
   "cell_type": "markdown",
   "id": "edde5091",
   "metadata": {},
   "source": [
    "Edge Detection"
   ]
  },
  {
   "cell_type": "code",
   "execution_count": 14,
   "id": "7077d1f6",
   "metadata": {},
   "outputs": [
    {
     "data": {
      "text/plain": [
       "-1"
      ]
     },
     "execution_count": 14,
     "metadata": {},
     "output_type": "execute_result"
    }
   ],
   "source": [
    "# laplacian\n",
    "lap = cv.Laplacian(gray, cv.CV_64F)\n",
    "lap = np.uint8(np.absolute(lap))\n",
    "cv.imshow('Laplacian', lap)\n",
    "cv.waitKey(0)"
   ]
  },
  {
   "cell_type": "code",
   "execution_count": 15,
   "id": "1218555b",
   "metadata": {},
   "outputs": [
    {
     "data": {
      "text/plain": [
       "-1"
      ]
     },
     "execution_count": 15,
     "metadata": {},
     "output_type": "execute_result"
    }
   ],
   "source": [
    "# Sobel\n",
    "sobelx = cv.Sobel(gray, cv.CV_64F, 1, 0)\n",
    "sobely = cv.Sobel(gray, cv.CV_64F, 0, 1)\n",
    "cv.imshow('sobel x', sobelx)\n",
    "cv.imshow('sobel y', sobely)\n",
    "cv.waitKey(0)"
   ]
  },
  {
   "cell_type": "code",
   "execution_count": 16,
   "id": "a7e265eb",
   "metadata": {},
   "outputs": [
    {
     "data": {
      "text/plain": [
       "-1"
      ]
     },
     "execution_count": 16,
     "metadata": {},
     "output_type": "execute_result"
    }
   ],
   "source": [
    "combinedSobel = cv.bitwise_or(sobelx,sobely)\n",
    "cv.imshow('combinedSobel', combinedSobel)\n",
    "cv.waitKey(0)"
   ]
  },
  {
   "cell_type": "code",
   "execution_count": 17,
   "id": "0d3dedd2",
   "metadata": {},
   "outputs": [
    {
     "data": {
      "text/plain": [
       "-1"
      ]
     },
     "execution_count": 17,
     "metadata": {},
     "output_type": "execute_result"
    }
   ],
   "source": [
    "# Canny\n",
    "canny = cv.Canny(gray, 150, 175)\n",
    "cv.imshow('canny', canny)\n",
    "cv.waitKey(0)"
   ]
  }
 ],
 "metadata": {
  "kernelspec": {
   "display_name": "Python 3",
   "language": "python",
   "name": "python3"
  },
  "language_info": {
   "codemirror_mode": {
    "name": "ipython",
    "version": 3
   },
   "file_extension": ".py",
   "mimetype": "text/x-python",
   "name": "python",
   "nbconvert_exporter": "python",
   "pygments_lexer": "ipython3",
   "version": "3.9.0"
  }
 },
 "nbformat": 4,
 "nbformat_minor": 5
}
